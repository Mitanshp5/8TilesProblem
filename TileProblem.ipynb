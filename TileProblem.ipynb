{
 "cells": [
  {
   "cell_type": "code",
   "execution_count": 19,
   "metadata": {},
   "outputs": [],
   "source": [
    "tiles = 9\n",
    "mat = int(tiles/3)"
   ]
  },
  {
   "cell_type": "code",
   "execution_count": null,
   "metadata": {},
   "outputs": [],
   "source": [
    "# initial = [[0,2,3],\n",
    "#           [1,8,4],\n",
    "#           [7,6,5]]\n",
    "# goal = [[1,0,2],\n",
    "#         [3,4,5],\n",
    "#         [6,7,8]]\n",
    "\n",
    "#It does not solve more complex problems by this approch.\n",
    "#Currently working on it to fix it.\n",
    "\n",
    "initial = [[1,3,6],\n",
    "          [4,2,0],\n",
    "          [7,5,8]]\n",
    "goal = [[1,2,3],\n",
    "        [4,5,6],\n",
    "        [7,8,0]]"
   ]
  },
  {
   "cell_type": "code",
   "execution_count": 21,
   "metadata": {},
   "outputs": [],
   "source": [
    "def find(matrix,no):\n",
    "        for i in range(mat):\n",
    "            for j in range(mat):\n",
    "                if (matrix[i][j]==no):\n",
    "                    return i, j\n",
    "\n",
    "def mdistance(matrix):\n",
    "    sum=0\n",
    "    for i in range(mat):\n",
    "        for j in range(mat):\n",
    "            i_row, i_column = find(goal, matrix[i][j])\n",
    "            sum += abs(i-i_row) + abs(j-i_column)\n",
    "    return sum\n",
    "\n",
    "def printsteps(steps):\n",
    "     for i in steps:\n",
    "        for j in i:\n",
    "            if type(j) == list:\n",
    "                for k in j:\n",
    "                    print(k)\n",
    "                print(\"---------\")"
   ]
  },
  {
   "cell_type": "code",
   "execution_count": 22,
   "metadata": {},
   "outputs": [],
   "source": [
    "class operations:\n",
    "\n",
    "    def up(matrix,b_row, b_column):\n",
    "        matrix[b_row][b_column], matrix[b_row-1][b_column] = matrix[b_row-1][b_column], matrix[b_row][b_column]\n",
    "        return matrix\n",
    "    \n",
    "    def down(matrix,b_row, b_column):\n",
    "        matrix[b_row][b_column], matrix[b_row+1][b_column] = matrix[b_row+1][b_column], matrix[b_row][b_column]\n",
    "        return matrix\n",
    "    \n",
    "    def left(matrix,b_row, b_column):\n",
    "        matrix[b_row][b_column], matrix[b_row][b_column-1] = matrix[b_row][b_column-1], matrix[b_row][b_column]\n",
    "        return matrix\n",
    "    \n",
    "    def right(matrix,b_row, b_column):\n",
    "        matrix[b_row][b_column], matrix[b_row][b_column+1] = matrix[b_row][b_column+1], matrix[b_row][b_column]\n",
    "        return matrix        "
   ]
  },
  {
   "cell_type": "code",
   "execution_count": 23,
   "metadata": {},
   "outputs": [],
   "source": [
    "def possible_moves(matrix, prev_move):\n",
    "    b_row, b_column = find(matrix,0)\n",
    "    intermediates = {}\n",
    "\n",
    "    if b_row != 0 and prev_move != \"down\":\n",
    "        state_up = [row[:] for row in matrix] \n",
    "        operations.up(state_up, b_row, b_column)\n",
    "        intermediates[\"up\"] = (state_up, mdistance(state_up))\n",
    "\n",
    "    if b_row != mat-1 and prev_move != \"up\":\n",
    "        state_down = [row[:] for row in matrix] \n",
    "        operations.down(state_down, b_row, b_column)\n",
    "        intermediates[\"down\"] = (state_down, mdistance(state_down))\n",
    "    \n",
    "    if b_column != 0 and prev_move != \"right\":\n",
    "        state_left = [row[:] for row in matrix] \n",
    "        operations.left(state_left, b_row, b_column)\n",
    "        intermediates[\"left\"] = (state_left, mdistance(state_left))\n",
    "    \n",
    "    if b_column != mat-1 and prev_move != \"left\":\n",
    "        state_right = [row[:] for row in matrix] \n",
    "        operations.right(state_right, b_row, b_column)\n",
    "        intermediates[\"right\"] = (state_right, mdistance(state_right))\n",
    "    \n",
    "    return intermediates"
   ]
  },
  {
   "cell_type": "code",
   "execution_count": 24,
   "metadata": {},
   "outputs": [
    {
     "name": "stdout",
     "output_type": "stream",
     "text": [
      "[1, 3, 6]\n",
      "[4, 2, 0]\n",
      "[7, 5, 8]\n",
      "---------\n",
      "[1, 3, 0]\n",
      "[4, 2, 6]\n",
      "[7, 5, 8]\n",
      "---------\n",
      "[1, 0, 3]\n",
      "[4, 2, 6]\n",
      "[7, 5, 8]\n",
      "---------\n",
      "[1, 2, 3]\n",
      "[4, 0, 6]\n",
      "[7, 5, 8]\n",
      "---------\n",
      "[1, 2, 3]\n",
      "[4, 5, 6]\n",
      "[7, 0, 8]\n",
      "---------\n",
      "[1, 2, 3]\n",
      "[4, 5, 6]\n",
      "[7, 8, 0]\n",
      "---------\n"
     ]
    }
   ],
   "source": [
    "prev_move = None\n",
    "steps = [[initial, mdistance(initial)]]\n",
    "intermediates_moves = []\n",
    "\n",
    "while steps[-1][0] != goal:\n",
    "    current_state = steps[-1][0]\n",
    "    intermediates = possible_moves(current_state, prev_move)\n",
    "    intermediates_moves.append(intermediates)\n",
    "    min_move = min(intermediates.items(), key=lambda x: x[1][1])\n",
    "    prev_move = min_move[0]\n",
    "    steps.append([min_move[1][0], min_move[1][1]])\n",
    "\n",
    "printsteps(steps)\n"
   ]
  }
 ],
 "metadata": {
  "kernelspec": {
   "display_name": "Python 3",
   "language": "python",
   "name": "python3"
  },
  "language_info": {
   "codemirror_mode": {
    "name": "ipython",
    "version": 3
   },
   "file_extension": ".py",
   "mimetype": "text/x-python",
   "name": "python",
   "nbconvert_exporter": "python",
   "pygments_lexer": "ipython3",
   "version": "3.13.2"
  }
 },
 "nbformat": 4,
 "nbformat_minor": 2
}
